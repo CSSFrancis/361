{
 "cells": [
  {
   "cell_type": "markdown",
   "id": "f926e833",
   "metadata": {},
   "source": [
    "## Background\n",
    "\n",
    "### II.1. Review of X-ray Diffraction\n",
    "\n",
    "Recall that the Bragg equation relating the Bragg angle of x-ray reflections and distances between lattice planes is: \n",
    "\n",
    "$$\\lambda = 2 d_{hlk} *sin(\\theta_b)$$\n",
    "\n",
    "We’ll focus on cubic crystals to make the formulas more intuitive.  For a material with a cubic crystal structure and lattice parameter ao, the distance between planes, dhkl, with indices hkl is:\n",
    "\n",
    "$$d_{hkl} = \\frac{a}{\\sqrt{h^2+k^2+l^2}}$$\n",
    "\n",
    "One (not-so-good) way to estimate the lattice parameter is to measure the Bragg angle for several diffraction peaks, determining a value for a from each Bragg angle, and averaging the answers.  However, because (a) d depends on sin$\\theta$ , not $\\theta$, in Braggs law and (b) systematic errors occur in x-ray powder diffraction, there are approaches to determining a from a set of Bragg angle measurements that will yield far more precise values than averaging.\n",
    "\n",
    "\n",
    "To understand the errors further, first differentiate Bragg equation to find the error in a that results from an error $\\Delta \\theta $ in the measured Bragg angle.  Start with:\n",
    "\n",
    "\n",
    "$$d_{hkl}=\\frac{\\lambda}{2 sin(\\theta_B)}$$\n",
    "\n",
    "\n",
    "Once we differentiate both sides and substitute this definition back in we get:\n",
    "\n",
    "\n",
    "$$\\Delta d_{hkl}=-d_{hkl}\\frac{cos(\\theta_B)}{sin(\\theta_B)} *\\Delta\\theta_B$$\n",
    "\n",
    "It’s more useful to have this in terms of a instead of d.  Use $\\Delta d/d=\\Delta a/a$.\n",
    "\n",
    " $$\\Delta a = -a \\frac{cos(\\theta_B)}{sin(\\theta_B)}*\\Delta\\theta_B$$\n",
    "\n",
    "\n",
    "X-rays propagating in a material lose intensity via absorption.  The intensity at distance x along the propagation of the beam into the sample is I(x) such that\n",
    "\n",
    "$$I(x)=I(0)exp⁡(-μx)$$\n",
    "\n",
    "Here $\\mu$ is called the absorption constant and it has units of 1/length, commonly 1/cm.\n",
    "\n",
    "### II.2.1. Transparency Error\n",
    "\n",
    "Transparency error arises because the x-ray beam is not diffracted not only from the surface of the sample, but also from a line that penetrates into the sample as the beam is absorbed. The diffracted x-ray beams from all along this line are diffracted to the same 2$\\theta$ angle, but they reach the detector at different places and thus show up in the diffraction pattern at different apparent angles.  This effect is illustrated in Figure 1.\n",
    "\n",
    "<center>\n",
    "<img style=\"display:inline-block; \" alt=\"Transp\" class=\"plain\" src=\"img/TransparencyError.png\" height=400 width=400/> &nbsp;&nbsp;\n",
    "</center>"
   ]
  },
  {
   "cell_type": "markdown",
   "id": "d0f649e8",
   "metadata": {},
   "source": [
    "## Start of Assig"
   ]
  },
  {
   "cell_type": "code",
   "execution_count": null,
   "id": "74f1747f",
   "metadata": {},
   "outputs": [],
   "source": []
  }
 ],
 "metadata": {
  "kernelspec": {
   "display_name": "Python 3",
   "language": "python",
   "name": "python3"
  },
  "language_info": {
   "codemirror_mode": {
    "name": "ipython",
    "version": 3
   },
   "file_extension": ".py",
   "mimetype": "text/x-python",
   "name": "python",
   "nbconvert_exporter": "python",
   "pygments_lexer": "ipython3",
   "version": "3.8.5"
  }
 },
 "nbformat": 4,
 "nbformat_minor": 5
}
